{
 "cells": [
  {
   "cell_type": "code",
   "execution_count": 71,
   "metadata": {},
   "outputs": [],
   "source": [
    "### Install and import libraries"
   ]
  },
  {
   "cell_type": "code",
   "execution_count": 1,
   "metadata": {},
   "outputs": [
    {
     "name": "stdout",
     "output_type": "stream",
     "text": [
      "Requirement already satisfied: ogb in /usr/local/Caskroom/miniconda/base/envs/ada/lib/python3.8/site-packages (1.3.3)\n",
      "Requirement already satisfied: six>=1.12.0 in /usr/local/Caskroom/miniconda/base/envs/ada/lib/python3.8/site-packages (from ogb) (1.16.0)\n",
      "Requirement already satisfied: pandas>=0.24.0 in /usr/local/Caskroom/miniconda/base/envs/ada/lib/python3.8/site-packages (from ogb) (1.3.2)\n",
      "Requirement already satisfied: torch>=1.6.0 in /usr/local/Caskroom/miniconda/base/envs/ada/lib/python3.8/site-packages (from ogb) (1.11.0)\n",
      "Requirement already satisfied: outdated>=0.2.0 in /usr/local/Caskroom/miniconda/base/envs/ada/lib/python3.8/site-packages (from ogb) (0.2.1)\n",
      "Requirement already satisfied: numpy>=1.16.0 in /usr/local/Caskroom/miniconda/base/envs/ada/lib/python3.8/site-packages (from ogb) (1.20.3)\n",
      "Requirement already satisfied: tqdm>=4.29.0 in /usr/local/Caskroom/miniconda/base/envs/ada/lib/python3.8/site-packages (from ogb) (4.62.3)\n",
      "Requirement already satisfied: urllib3>=1.24.0 in /usr/local/Caskroom/miniconda/base/envs/ada/lib/python3.8/site-packages (from ogb) (1.26.6)\n",
      "Requirement already satisfied: scikit-learn>=0.20.0 in /usr/local/Caskroom/miniconda/base/envs/ada/lib/python3.8/site-packages (from ogb) (1.0.1)\n",
      "Requirement already satisfied: requests in /usr/local/Caskroom/miniconda/base/envs/ada/lib/python3.8/site-packages (from outdated>=0.2.0->ogb) (2.26.0)\n",
      "Requirement already satisfied: littleutils in /usr/local/Caskroom/miniconda/base/envs/ada/lib/python3.8/site-packages (from outdated>=0.2.0->ogb) (0.2.2)\n",
      "Requirement already satisfied: python-dateutil>=2.7.3 in /usr/local/Caskroom/miniconda/base/envs/ada/lib/python3.8/site-packages (from pandas>=0.24.0->ogb) (2.8.2)\n",
      "Requirement already satisfied: pytz>=2017.3 in /usr/local/Caskroom/miniconda/base/envs/ada/lib/python3.8/site-packages (from pandas>=0.24.0->ogb) (2021.1)\n",
      "Requirement already satisfied: threadpoolctl>=2.0.0 in /usr/local/Caskroom/miniconda/base/envs/ada/lib/python3.8/site-packages (from scikit-learn>=0.20.0->ogb) (3.0.0)\n",
      "Requirement already satisfied: joblib>=0.11 in /usr/local/Caskroom/miniconda/base/envs/ada/lib/python3.8/site-packages (from scikit-learn>=0.20.0->ogb) (1.1.0)\n",
      "Requirement already satisfied: scipy>=1.1.0 in /usr/local/Caskroom/miniconda/base/envs/ada/lib/python3.8/site-packages (from scikit-learn>=0.20.0->ogb) (1.7.1)\n",
      "Requirement already satisfied: typing-extensions in /usr/local/Caskroom/miniconda/base/envs/ada/lib/python3.8/site-packages (from torch>=1.6.0->ogb) (3.10.0.2)\n",
      "Requirement already satisfied: certifi>=2017.4.17 in /usr/local/Caskroom/miniconda/base/envs/ada/lib/python3.8/site-packages (from requests->outdated>=0.2.0->ogb) (2021.10.8)\n",
      "Requirement already satisfied: idna<4,>=2.5 in /usr/local/Caskroom/miniconda/base/envs/ada/lib/python3.8/site-packages (from requests->outdated>=0.2.0->ogb) (3.2)\n",
      "Requirement already satisfied: charset-normalizer~=2.0.0 in /usr/local/Caskroom/miniconda/base/envs/ada/lib/python3.8/site-packages (from requests->outdated>=0.2.0->ogb) (2.0.4)\n",
      "Looking in links: https://data.pyg.org/whl/torch-1.11.0+cpu.html\n",
      "Requirement already satisfied: torch-scatter in /usr/local/Caskroom/miniconda/base/envs/ada/lib/python3.8/site-packages (2.0.9)\n",
      "Requirement already satisfied: torch-sparse in /usr/local/Caskroom/miniconda/base/envs/ada/lib/python3.8/site-packages (0.6.13)\n",
      "Requirement already satisfied: torch-cluster in /usr/local/Caskroom/miniconda/base/envs/ada/lib/python3.8/site-packages (1.6.0)\n",
      "Requirement already satisfied: torch-spline-conv in /usr/local/Caskroom/miniconda/base/envs/ada/lib/python3.8/site-packages (1.2.1)\n",
      "Requirement already satisfied: torch-geometric in /usr/local/Caskroom/miniconda/base/envs/ada/lib/python3.8/site-packages (2.0.4)\n",
      "Requirement already satisfied: pyparsing in /usr/local/Caskroom/miniconda/base/envs/ada/lib/python3.8/site-packages (from torch-geometric) (2.4.7)\n",
      "Requirement already satisfied: jinja2 in /usr/local/Caskroom/miniconda/base/envs/ada/lib/python3.8/site-packages (from torch-geometric) (3.0.1)\n",
      "Requirement already satisfied: scipy in /usr/local/Caskroom/miniconda/base/envs/ada/lib/python3.8/site-packages (from torch-geometric) (1.7.1)\n",
      "Requirement already satisfied: requests in /usr/local/Caskroom/miniconda/base/envs/ada/lib/python3.8/site-packages (from torch-geometric) (2.26.0)\n",
      "Requirement already satisfied: scikit-learn in /usr/local/Caskroom/miniconda/base/envs/ada/lib/python3.8/site-packages (from torch-geometric) (1.0.1)\n",
      "Requirement already satisfied: numpy in /usr/local/Caskroom/miniconda/base/envs/ada/lib/python3.8/site-packages (from torch-geometric) (1.20.3)\n",
      "Requirement already satisfied: pandas in /usr/local/Caskroom/miniconda/base/envs/ada/lib/python3.8/site-packages (from torch-geometric) (1.3.2)\n",
      "Requirement already satisfied: tqdm in /usr/local/Caskroom/miniconda/base/envs/ada/lib/python3.8/site-packages (from torch-geometric) (4.62.3)\n",
      "Requirement already satisfied: MarkupSafe>=2.0 in /usr/local/Caskroom/miniconda/base/envs/ada/lib/python3.8/site-packages (from jinja2->torch-geometric) (2.0.1)\n",
      "Requirement already satisfied: python-dateutil>=2.7.3 in /usr/local/Caskroom/miniconda/base/envs/ada/lib/python3.8/site-packages (from pandas->torch-geometric) (2.8.2)\n",
      "Requirement already satisfied: pytz>=2017.3 in /usr/local/Caskroom/miniconda/base/envs/ada/lib/python3.8/site-packages (from pandas->torch-geometric) (2021.1)\n",
      "Requirement already satisfied: six>=1.5 in /usr/local/Caskroom/miniconda/base/envs/ada/lib/python3.8/site-packages (from python-dateutil>=2.7.3->pandas->torch-geometric) (1.16.0)\n",
      "Requirement already satisfied: charset-normalizer~=2.0.0 in /usr/local/Caskroom/miniconda/base/envs/ada/lib/python3.8/site-packages (from requests->torch-geometric) (2.0.4)\n",
      "Requirement already satisfied: urllib3<1.27,>=1.21.1 in /usr/local/Caskroom/miniconda/base/envs/ada/lib/python3.8/site-packages (from requests->torch-geometric) (1.26.6)\n",
      "Requirement already satisfied: certifi>=2017.4.17 in /usr/local/Caskroom/miniconda/base/envs/ada/lib/python3.8/site-packages (from requests->torch-geometric) (2021.10.8)\n",
      "Requirement already satisfied: idna<4,>=2.5 in /usr/local/Caskroom/miniconda/base/envs/ada/lib/python3.8/site-packages (from requests->torch-geometric) (3.2)\n",
      "Requirement already satisfied: joblib>=0.11 in /usr/local/Caskroom/miniconda/base/envs/ada/lib/python3.8/site-packages (from scikit-learn->torch-geometric) (1.1.0)\n",
      "Requirement already satisfied: threadpoolctl>=2.0.0 in /usr/local/Caskroom/miniconda/base/envs/ada/lib/python3.8/site-packages (from scikit-learn->torch-geometric) (3.0.0)\n"
     ]
    }
   ],
   "source": [
    "!pip install ogb\n",
    "!pip install torch-scatter torch-sparse torch-cluster torch-spline-conv torch-geometric -f https://data.pyg.org/whl/torch-1.11.0+cpu.html"
   ]
  },
  {
   "cell_type": "code",
   "execution_count": 2,
   "metadata": {},
   "outputs": [],
   "source": [
    "import torch_geometric\n",
    "import networkx as nx\n",
    "import random\n",
    "import numpy as np\n",
    "import torch\n",
    "import seaborn as sns\n",
    "import matplotlib.pyplot as plt\n",
    "import torch_geometric.transforms as T\n",
    "\n",
    "from sklearn.linear_model import LogisticRegression\n",
    "from sklearn.pipeline import make_pipeline\n",
    "from sklearn.preprocessing import StandardScaler\n",
    "from torch.utils.data import DataLoader\n",
    "from torch_geometric.utils import negative_sampling\n",
    "from shared_code import PICKLE_PATH, color\n",
    "\n",
    "device = torch.device('cuda' if torch.cuda.is_available() else 'cpu')"
   ]
  },
  {
   "cell_type": "code",
   "execution_count": 3,
   "metadata": {},
   "outputs": [],
   "source": [
    "from ogb.linkproppred import PygLinkPropPredDataset, Evaluator\n",
    "dataset = PygLinkPropPredDataset(name = 'ogbl-ddi')\n",
    "evaluator = Evaluator(name='ogbl-ddi')\n",
    "\n",
    "split_edge = dataset.get_edge_split()\n",
    "train_edge, valid_edge, test_edge = split_edge[\"train\"], split_edge[\"valid\"], split_edge[\"test\"]\n",
    "graph = dataset[0]\n",
    "g = torch_geometric.utils.to_networkx(graph, to_undirected=True)"
   ]
  },
  {
   "cell_type": "code",
   "execution_count": 4,
   "metadata": {},
   "outputs": [
    {
     "name": "stdout",
     "output_type": "stream",
     "text": [
      "Number of edges in the training set:  1067911\n",
      "Number of edges in the validation set: \n",
      "\t positive:  133489\n",
      "\t negative:  101882\n",
      "Number of edges in the test set: \n",
      "\t positive:  133489\n",
      "\t negative:  95599\n"
     ]
    }
   ],
   "source": [
    "print(\"Number of edges in the training set: \", train_edge['edge'].shape[0])\n",
    "print(\"Number of edges in the validation set: \")\n",
    "print(\"\\t positive: \", valid_edge['edge'].shape[0])\n",
    "print(\"\\t negative: \", valid_edge['edge_neg'].shape[0])\n",
    "print(\"Number of edges in the test set: \")\n",
    "print(\"\\t positive: \", test_edge['edge'].shape[0])\n",
    "print(\"\\t negative: \", test_edge['edge_neg'].shape[0])"
   ]
  },
  {
   "cell_type": "markdown",
   "metadata": {},
   "source": [
    "### Compute general statistics"
   ]
  },
  {
   "cell_type": "code",
   "execution_count": null,
   "metadata": {},
   "outputs": [],
   "source": [
    "print(\"Diameter: \", nx.diameter(g)) # takes ~13.5mins on MCB Pro '19"
   ]
  },
  {
   "cell_type": "code",
   "execution_count": 10,
   "metadata": {},
   "outputs": [
    {
     "name": "stdout",
     "output_type": "stream",
     "text": [
      "Average clustering coefficient:  0.5142590776306287\n"
     ]
    }
   ],
   "source": [
    "print(\"Average clustering coefficient: \", nx.average_clustering(g)) # takes ~5mins on MCB Pro '19"
   ]
  },
  {
   "cell_type": "code",
   "execution_count": 12,
   "metadata": {},
   "outputs": [
    {
     "name": "stdout",
     "output_type": "stream",
     "text": [
      "Average shortest path length:  2.125111863293908\n"
     ]
    }
   ],
   "source": [
    "print(\"Average shortest path length: \", nx.average_shortest_path_length(g)) # takes ~14mins on MCB Pro '19"
   ]
  },
  {
   "cell_type": "code",
   "execution_count": 82,
   "metadata": {},
   "outputs": [
    {
     "name": "stdout",
     "output_type": "stream",
     "text": [
      "Average degree:  500.5441762362315\n"
     ]
    }
   ],
   "source": [
    "average_degree = sum([g.degree(n) for n in g.nodes()])/len(g.nodes())\n",
    "print(\"Average degree: \", average_degree)"
   ]
  },
  {
   "cell_type": "code",
   "execution_count": 83,
   "metadata": {},
   "outputs": [
    {
     "name": "stdout",
     "output_type": "stream",
     "text": [
      "Expected average distance acc to small worlds 1.344767580767809\n"
     ]
    }
   ],
   "source": [
    "import math\n",
    "N = len(g.nodes())\n",
    "print(\"Expected average distance acc to small worlds\", math.log(N)/math.log(average_degree))"
   ]
  },
  {
   "cell_type": "code",
   "execution_count": 15,
   "metadata": {},
   "outputs": [
    {
     "data": {
      "text/plain": [
       "0.11733337464515507"
      ]
     },
     "execution_count": 15,
     "metadata": {},
     "output_type": "execute_result"
    }
   ],
   "source": [
    "nx.density(g)"
   ]
  },
  {
   "cell_type": "code",
   "execution_count": 16,
   "metadata": {},
   "outputs": [
    {
     "data": {
      "text/plain": [
       "4267"
      ]
     },
     "execution_count": 16,
     "metadata": {},
     "output_type": "execute_result"
    }
   ],
   "source": [
    "N"
   ]
  },
  {
   "cell_type": "code",
   "execution_count": 17,
   "metadata": {},
   "outputs": [
    {
     "data": {
      "text/plain": [
       "500.5441762362315"
      ]
     },
     "execution_count": 17,
     "metadata": {},
     "output_type": "execute_result"
    }
   ],
   "source": [
    "average_degree"
   ]
  },
  {
   "cell_type": "code",
   "execution_count": 19,
   "metadata": {},
   "outputs": [
    {
     "data": {
      "text/plain": [
       "0.46811303106318475"
      ]
     },
     "execution_count": 19,
     "metadata": {},
     "output_type": "execute_result"
    }
   ],
   "source": [
    "nx.transitivity(g)"
   ]
  },
  {
   "cell_type": "code",
   "execution_count": 45,
   "metadata": {},
   "outputs": [
    {
     "data": {
      "text/plain": [
       "0.7811786582444179"
      ]
     },
     "execution_count": 45,
     "metadata": {},
     "output_type": "execute_result"
    }
   ],
   "source": [
    "nx.algebraic_connectivity(g)"
   ]
  },
  {
   "cell_type": "code",
   "execution_count": 84,
   "metadata": {},
   "outputs": [
    {
     "name": "stdout",
     "output_type": "stream",
     "text": [
      "BA Model: N=4267, L=1066750, k=500, d=3.937, C=0.016\n"
     ]
    }
   ],
   "source": [
    "# BA stats (Lecture notes BA model, slide 29)\n",
    "BA_t = N\n",
    "BA_m = 250\n",
    "BA_L = BA_t * BA_m\n",
    "BA_k = 2*BA_m\n",
    "BA_d = np.round(math.log(N)/math.log(math.log(N)),3)\n",
    "BA_C = np.round(math.log(N)** 2 / N,3)\n",
    "print(f'BA Model: N={BA_t}, L={BA_L}, k={BA_k}, d={BA_d}, C={BA_C}')"
   ]
  },
  {
   "cell_type": "markdown",
   "metadata": {},
   "source": [
    "### Compute node attributes (careful: very slow)"
   ]
  },
  {
   "cell_type": "code",
   "execution_count": 36,
   "metadata": {},
   "outputs": [],
   "source": [
    "nx.set_node_attributes(g, nx.betweenness_centrality(g), \"betweenness\")"
   ]
  },
  {
   "cell_type": "code",
   "execution_count": 37,
   "metadata": {},
   "outputs": [],
   "source": [
    "nx.set_node_attributes(g, nx.eigenvector_centrality(g), \"eigenvect\")"
   ]
  },
  {
   "cell_type": "code",
   "execution_count": 67,
   "metadata": {},
   "outputs": [],
   "source": [
    "nx.set_node_attributes(g, nx.clustering(g), \"clust\")"
   ]
  },
  {
   "cell_type": "code",
   "execution_count": 56,
   "metadata": {},
   "outputs": [],
   "source": [
    "nx.set_node_attributes(g, nx.degree_centrality(g), \"degree_centr\")"
   ]
  },
  {
   "cell_type": "code",
   "execution_count": 57,
   "metadata": {},
   "outputs": [
    {
     "name": "stderr",
     "output_type": "stream",
     "text": [
      "/usr/local/Caskroom/miniconda/base/envs/ada/lib/python3.8/site-packages/networkx/algorithms/centrality/subgraph_alg.py:182: RuntimeWarning: overflow encountered in exp\n",
      "  expw = np.exp(w)\n"
     ]
    }
   ],
   "source": [
    "nx.set_node_attributes(g, nx.centrality.subgraph_centrality(g), \"subg_centr\")"
   ]
  },
  {
   "cell_type": "code",
   "execution_count": 67,
   "metadata": {},
   "outputs": [],
   "source": [
    "nx.set_node_attributes(g, nx.centrality.closeness_centrality(g), \"closeness_centr\")"
   ]
  },
  {
   "cell_type": "code",
   "execution_count": 70,
   "metadata": {},
   "outputs": [],
   "source": [
    "PICKLE_PATH  = './latest_graph.pickle'\n",
    "nx.write_gpickle(g, path=PICKLE_PATH)"
   ]
  },
  {
   "cell_type": "code",
   "execution_count": 11,
   "metadata": {},
   "outputs": [],
   "source": [
    "betw = nx.get_node_attributes(g,'betweenness')\n",
    "eigc = nx.get_node_attributes(g,'eigenvect')\n",
    "degc = nx.get_node_attributes(g,'degree_centr')\n",
    "subgc = nx.get_node_attributes(g,'subg_centr')\n"
   ]
  },
  {
   "cell_type": "code",
   "execution_count": 12,
   "metadata": {},
   "outputs": [
    {
     "data": {
      "application/vnd.deepnote.dataframe.v2+json": {
       "error": "Traceback (most recent call last):\n  File \"/Users/jirilhotka/Documents/Work/Deepnote/code/templates/deepnote/.deepnote/variable_explorer.py\", line 270, in dataframe_formatter\n    return { MIME_TYPE: describe_pd_dataframe(df) }\n  File \"/Users/jirilhotka/Documents/Work/Deepnote/code/templates/deepnote/.deepnote/variable_explorer_helpers.py\", line 53, in describe_pd_dataframe\n    df_analyzed.columns = pd.io.parsers.ParserBase({'names': df_analyzed.columns})._maybe_dedup_names(df_analyzed.columns)\nAttributeError: module 'pandas.io.parsers' has no attribute 'ParserBase'\n"
      },
      "text/html": [
       "<div>\n",
       "<style scoped>\n",
       "    .dataframe tbody tr th:only-of-type {\n",
       "        vertical-align: middle;\n",
       "    }\n",
       "\n",
       "    .dataframe tbody tr th {\n",
       "        vertical-align: top;\n",
       "    }\n",
       "\n",
       "    .dataframe thead th {\n",
       "        text-align: right;\n",
       "    }\n",
       "</style>\n",
       "<table border=\"1\" class=\"dataframe\">\n",
       "  <thead>\n",
       "    <tr style=\"text-align: right;\">\n",
       "      <th></th>\n",
       "      <th>0</th>\n",
       "    </tr>\n",
       "  </thead>\n",
       "  <tbody>\n",
       "    <tr>\n",
       "      <th>count</th>\n",
       "      <td>4267.000000</td>\n",
       "    </tr>\n",
       "    <tr>\n",
       "      <th>mean</th>\n",
       "      <td>0.000264</td>\n",
       "    </tr>\n",
       "    <tr>\n",
       "      <th>std</th>\n",
       "      <td>0.001005</td>\n",
       "    </tr>\n",
       "    <tr>\n",
       "      <th>min</th>\n",
       "      <td>0.000000</td>\n",
       "    </tr>\n",
       "    <tr>\n",
       "      <th>25%</th>\n",
       "      <td>0.000003</td>\n",
       "    </tr>\n",
       "    <tr>\n",
       "      <th>50%</th>\n",
       "      <td>0.000044</td>\n",
       "    </tr>\n",
       "    <tr>\n",
       "      <th>75%</th>\n",
       "      <td>0.000251</td>\n",
       "    </tr>\n",
       "    <tr>\n",
       "      <th>max</th>\n",
       "      <td>0.050463</td>\n",
       "    </tr>\n",
       "  </tbody>\n",
       "</table>\n",
       "</div>"
      ],
      "text/plain": [
       "                 0\n",
       "count  4267.000000\n",
       "mean      0.000264\n",
       "std       0.001005\n",
       "min       0.000000\n",
       "25%       0.000003\n",
       "50%       0.000044\n",
       "75%       0.000251\n",
       "max       0.050463"
      ]
     },
     "execution_count": 12,
     "metadata": {},
     "output_type": "execute_result"
    }
   ],
   "source": [
    "import pandas as pd\n",
    "pd.DataFrame.from_dict(betw, orient='index').describe()"
   ]
  },
  {
   "cell_type": "code",
   "execution_count": 13,
   "metadata": {},
   "outputs": [
    {
     "data": {
      "image/png": "[encoded data removed]",
      "text/plain": [
       "<Figure size 432x288 with 1 Axes>"
      ]
     },
     "metadata": {
      "needs_background": "light"
     },
     "output_type": "display_data"
    }
   ],
   "source": [
    "import matplotlib.pyplot as plt\n",
    "pd.DataFrame.from_dict(betw, orient='index').hist()\n",
    "plt.yscale('log')"
   ]
  },
  {
   "cell_type": "code",
   "execution_count": 14,
   "metadata": {},
   "outputs": [
    {
     "name": "stdout",
     "output_type": "stream",
     "text": [
      "                  0\n",
      "count  4.267000e+03\n",
      "mean   1.133117e-02\n",
      "std    1.029495e-02\n",
      "min    1.092451e-07\n",
      "25%    1.148121e-03\n",
      "50%    9.299999e-03\n",
      "75%    1.859486e-02\n",
      "max    4.666307e-02\n"
     ]
    },
    {
     "data": {
      "image/png": "[encoded data removed]",
      "text/plain": [
       "<Figure size 432x288 with 1 Axes>"
      ]
     },
     "metadata": {
      "needs_background": "light"
     },
     "output_type": "display_data"
    }
   ],
   "source": [
    "print(pd.DataFrame.from_dict(eigc, orient='index').describe())\n",
    "pd.DataFrame.from_dict(eigc, orient='index').hist()\n",
    "plt.yscale('log')"
   ]
  },
  {
   "cell_type": "code",
   "execution_count": 15,
   "metadata": {},
   "outputs": [
    {
     "name": "stdout",
     "output_type": "stream",
     "text": [
      "                 0\n",
      "count  4267.000000\n",
      "mean      0.117333\n",
      "std       0.098577\n",
      "min       0.000234\n",
      "25%       0.025668\n",
      "50%       0.104548\n",
      "75%       0.180497\n",
      "max       0.523676\n"
     ]
    },
    {
     "data": {
      "image/png": "[encoded data removed]",
      "text/plain": [
       "<Figure size 432x288 with 1 Axes>"
      ]
     },
     "metadata": {
      "needs_background": "light"
     },
     "output_type": "display_data"
    }
   ],
   "source": [
    "print(pd.DataFrame.from_dict(degc, orient='index').describe())\n",
    "pd.DataFrame.from_dict(degc, orient='index').hist()\n",
    "plt.yscale('log')"
   ]
  },
  {
   "cell_type": "markdown",
   "metadata": {},
   "source": [
    "### Degree distribution analysis"
   ]
  },
  {
   "cell_type": "code",
   "execution_count": 76,
   "metadata": {},
   "outputs": [
    {
     "data": {
      "image/png": "[encoded data removed]",
      "text/plain": [
       "<Figure size 1080x288 with 3 Axes>"
      ]
     },
     "metadata": {
      "needs_background": "light"
     },
     "output_type": "display_data"
    }
   ],
   "source": [
    "fig, ax = plt.subplots(1, 3, figsize=(15, 4))\n",
    "axs = ax.ravel()\n",
    "\n",
    "hist = nx.degree_histogram(g)\n",
    "sns.histplot(hist, ax=axs[0])\n",
    "axs[0].set_title('Degree distribution')\n",
    "axs[0].set_xlabel('Node degree')\n",
    "\n",
    "sns.histplot(hist, ax=axs[1])\n",
    "axs[1].set_yscale('log')\n",
    "axs[1].set_title('Degree distribution (log-lin)')\n",
    "axs[1].set_xlabel('Node degree')\n",
    "\n",
    "sns.histplot(hist, ax=axs[2])\n",
    "axs[2].set_yscale('log')\n",
    "axs[2].set_xscale('log')\n",
    "axs[2].set_title('Degree distribution (log-log)')\n",
    "axs[2].set_xlabel('Node degree')\n",
    "\n",
    "plt.show()"
   ]
  },
  {
   "cell_type": "code",
   "execution_count": 77,
   "metadata": {},
   "outputs": [
    {
     "name": "stdout",
     "output_type": "stream",
     "text": [
      "0.0025\n"
     ]
    },
    {
     "data": {
      "image/png": "[encoded data removed]",
      "text/plain": [
       "<Figure size 576x288 with 1 Axes>"
      ]
     },
     "metadata": {
      "needs_background": "light"
     },
     "output_type": "display_data"
    }
   ],
   "source": [
    "degrees = [g.degree(n) for n in g.nodes()]\n",
    "\n",
    "\n",
    "\n",
    "import numpy as np\n",
    "import matplotlib.pyplot as plt\n",
    "from scipy.stats import poisson\n",
    "import math\n",
    "\n",
    "# Create a Poisson distro (I want to show it fits badly)\n",
    "mu = np.average(degrees)\n",
    "k =np.arange(0,max(degrees))\n",
    "pmf = poisson.pmf(k, mu=mu) * sum(degrees)\n",
    "\n",
    "# Generate the points manually because I couldnt get the powerlaw package to just do it\n",
    "alph  = 1.8\n",
    "C = 1\n",
    "pl_fit = np.arange(0,max(degrees), dtype=float)\n",
    "for x in range(1,len(pl_fit)):\n",
    "    pl_fit[x] = C*(x**(-alph) * sum(degrees))\n",
    "pl_fit[0] = pl_fit[1]\n",
    "\n",
    "exponential_fit = np.arange(0,max(degrees), dtype=float)\n",
    "_lambda = 0.0025 #np.round(math.log(1/mu + 1), 4)\n",
    "print(_lambda)\n",
    "for x in range(len(exponential_fit)):\n",
    "    exponential_fit[x] = _lambda*math.exp(-_lambda * x) * sum(degrees) / 10\n",
    "\n",
    "\n",
    "color = sns.color_palette(\"muted\", as_cmap=True)\n",
    "sns.set_palette(color)\n",
    "fig = plt.figure(figsize=(8, 4))\n",
    "degrees = [g.degree(n) for n in g.nodes()]\n",
    "sns.histplot(degrees, label='ogbl-ddi')\n",
    "plt.yscale('log')\n",
    "bot, top = plt.ylim()\n",
    "plt.plot(k, pmf, color=color[1], label='Poisson $\\lambda = 500$')\n",
    "plt.plot(k, pl_fit, color=color[2], label=f'Power Law $ \\\\alpha = {alph}$')\n",
    "plt.plot(k, exponential_fit, color=color[3], label=f'Exp $ \\lambda = {_lambda}$, scale$=1/10$')\n",
    "plt.title('Degree distribution')\n",
    "plt.xlabel('Node degree')\n",
    "plt.ylabel('Count (log)')\n",
    "plt.ylim((bot, top)) # Restore lims from above to focus on our graph\n",
    "plt.legend()\n",
    "plt.savefig(\"degree_dist.pdf\")\n"
   ]
  },
  {
   "cell_type": "code",
   "execution_count": 79,
   "metadata": {},
   "outputs": [
    {
     "data": {
      "text/plain": [
       "(1, 2234, 446.0)"
      ]
     },
     "execution_count": 79,
     "metadata": {},
     "output_type": "execute_result"
    }
   ],
   "source": [
    "min(degrees), max(degrees), np.median(degrees)"
   ]
  },
  {
   "cell_type": "markdown",
   "metadata": {},
   "source": [
    "### Neighbourhood Overlap Analysis"
   ]
  },
  {
   "cell_type": "code",
   "execution_count": 92,
   "metadata": {},
   "outputs": [
    {
     "name": "stdout",
     "output_type": "stream",
     "text": [
      "0\n",
      "50\n",
      "100\n",
      "150\n",
      "200\n",
      "250\n",
      "300\n",
      "350\n",
      "400\n",
      "450\n",
      "500\n",
      "550\n",
      "600\n",
      "650\n",
      "700\n",
      "750\n",
      "800\n",
      "850\n",
      "900\n",
      "950\n",
      "1000\n",
      "1050\n",
      "1100\n",
      "1150\n",
      "1200\n",
      "1250\n",
      "1300\n",
      "1350\n",
      "1400\n",
      "1450\n",
      "1500\n",
      "1550\n",
      "1600\n",
      "1650\n",
      "1700\n",
      "1750\n",
      "1800\n",
      "1850\n",
      "1900\n",
      "1950\n",
      "2000\n",
      "2050\n",
      "2100\n",
      "2150\n",
      "2200\n",
      "2250\n",
      "2300\n",
      "2350\n",
      "2400\n",
      "2450\n",
      "2500\n",
      "2550\n",
      "2600\n",
      "2650\n",
      "2700\n",
      "2750\n",
      "2800\n",
      "2850\n",
      "2900\n",
      "2950\n",
      "3000\n",
      "3050\n",
      "3100\n",
      "3150\n",
      "3200\n",
      "3250\n",
      "3300\n",
      "3350\n",
      "3400\n",
      "3450\n",
      "3500\n",
      "3550\n",
      "3600\n",
      "3650\n",
      "3700\n",
      "3750\n",
      "3800\n",
      "3850\n",
      "3900\n",
      "3950\n",
      "4000\n",
      "4050\n",
      "4100\n",
      "4150\n",
      "4200\n",
      "4250\n"
     ]
    }
   ],
   "source": [
    "nodes = list(g.nodes())\n",
    "raw_probas = {}\n",
    "jaccard_probas = {}\n",
    "\n",
    "for (i, node_a) in enumerate(nodes):\n",
    "    if i % 50 == 0: print(i)\n",
    "    if node_a == nodes[-1]: break\n",
    "    for node_b in nodes[i+1:]:\n",
    "        neigh_a = set(g.neighbors(node_a))\n",
    "        neigb_b = set(g.neighbors(node_b))\n",
    "        intersection = len(list(neigh_a.intersection(neigb_b)))\n",
    "        union = len(list(neigh_a.union(neigb_b)))\n",
    "        jaccard = np.round(intersection/union,2)\n",
    "        are_linked = int(node_b in neigh_a)\n",
    "        raw_probas[intersection] = raw_probas.get(intersection) or {}\n",
    "        jaccard_probas[jaccard] = jaccard_probas.get(jaccard) or {}\n",
    "        raw_probas[intersection]['total'] = (raw_probas[intersection].get('total') or 0) + 1\n",
    "        raw_probas[intersection]['avg'] = ((raw_probas[intersection].get('avg') or 0)*(raw_probas[intersection]['total']-1) + are_linked)/raw_probas[intersection]['total']\n",
    "        jaccard_probas[jaccard]['total'] = (jaccard_probas[jaccard].get('total') or 0) + 1\n",
    "        jaccard_probas[jaccard]['avg'] = ((jaccard_probas[jaccard].get('avg') or 0)*(jaccard_probas[jaccard]['total']-1) + are_linked)/jaccard_probas[jaccard]['total']\n"
   ]
  },
  {
   "cell_type": "code",
   "execution_count": 64,
   "metadata": {},
   "outputs": [
    {
     "data": {
      "image/png": "[encoded data removed]",
      "text/plain": [
       "<Figure size 576x288 with 1 Axes>"
      ]
     },
     "metadata": {
      "needs_background": "light"
     },
     "output_type": "display_data"
    }
   ],
   "source": [
    "\n",
    "\n",
    "raw_df = pd.DataFrame.from_dict(raw_probas,orient='index').sort_index()\n",
    "plt.plot(raw_df[raw_df['total']>20]['avg'], color=color[0])\n",
    "plt.title('Link probability as fn of shared neighbours')\n",
    "plt.xlabel('# Shared neighbours')\n",
    "plt.ylabel('% of nodes linked')\n",
    "plt.ylim((0,1.0))\n",
    "plt.yticks(np.linspace(start=0,stop=1.0,num=11))\n",
    "plt.savefig(\"neighbour_anal.pdf\")\n"
   ]
  },
  {
   "cell_type": "code",
   "execution_count": 22,
   "metadata": {},
   "outputs": [
    {
     "data": {
      "image/png": "[encoded data removed]",
      "text/plain": [
       "<Figure size 432x288 with 1 Axes>"
      ]
     },
     "metadata": {
      "needs_background": "light"
     },
     "output_type": "display_data"
    }
   ],
   "source": [
    "jaccard_df = pd.DataFrame.from_dict(jaccard_probas,orient='index').sort_index()\n",
    "\n",
    "plt.plot(jaccard_df[jaccard_df['total']>20]['avg'], color=color[0])\n",
    "plt.title('Link probability as fn of neighbour Jaccard distance')\n",
    "plt.xlabel('Neighbour Jaccard distance')\n",
    "plt.ylabel('% of nodes linked')\n",
    "plt.ylim((0,1.0))\n",
    "plt.yticks(np.linspace(start=0,stop=1.0,num=11))\n",
    "plt.show()"
   ]
  },
  {
   "cell_type": "code",
   "execution_count": 65,
   "metadata": {},
   "outputs": [
    {
     "data": {
      "image/png": "[encoded data removed]",
      "text/plain": [
       "<Figure size 576x288 with 1 Axes>"
      ]
     },
     "metadata": {
      "needs_background": "light"
     },
     "output_type": "display_data"
    }
   ],
   "source": [
    "plt.figure(figsize=(8,4))\n",
    "plt.plot(raw_df[raw_df['total']>20]['total'], color=color[0])\n",
    "plt.title('')\n",
    "plt.xlabel('# Shared neighbours')\n",
    "plt.ylabel('Count (log scale)')\n",
    "plt.yscale('log')\n",
    "plt.savefig(\"neighbour_deg.pdf\")\n"
   ]
  }
 ],
 "metadata": {
  "interpreter": {
   "hash": "61f371659e15671c4bf19c781ff73734bc385c323133a3685f5b4f679a2745d0"
  },
  "kernelspec": {
   "display_name": "Python 3.8.11 ('ada')",
   "language": "python",
   "name": "python3"
  },
  "language_info": {
   "codemirror_mode": {
    "name": "ipython",
    "version": 3
   },
   "file_extension": ".py",
   "mimetype": "text/x-python",
   "name": "python",
   "nbconvert_exporter": "python",
   "pygments_lexer": "ipython3",
   "version": "3.8.11"
  },
  "orig_nbformat": 4
 },
 "nbformat": 4,
 "nbformat_minor": 2
}
