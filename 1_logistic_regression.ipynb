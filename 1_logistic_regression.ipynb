{
 "cells": [
  {
   "cell_type": "code",
   "execution_count": 14,
   "metadata": {},
   "outputs": [],
   "source": [
    "import torch_geometric\n",
    "import networkx as nx\n",
    "import numpy as np\n",
    "import torch\n",
    "\n",
    "from sklearn.linear_model import LogisticRegression\n",
    "from sklearn.pipeline import make_pipeline\n",
    "from sklearn.preprocessing import StandardScaler\n",
    "from torch_geometric.utils import negative_sampling\n",
    "\n",
    "device = torch.device('cuda' if torch.cuda.is_available() else 'cpu')"
   ]
  },
  {
   "cell_type": "code",
   "execution_count": 15,
   "metadata": {},
   "outputs": [],
   "source": [
    "from ogb.linkproppred import PygLinkPropPredDataset, Evaluator\n",
    "dataset = PygLinkPropPredDataset(name = 'ogbl-ddi')\n",
    "evaluator = Evaluator(name='ogbl-ddi')\n",
    "\n",
    "split_edge = dataset.get_edge_split()\n",
    "train_edge, valid_edge, test_edge = split_edge[\"train\"], split_edge[\"valid\"], split_edge[\"test\"]\n",
    "\n",
    "PICKLE_PATH  = './latest_graph.pickle'\n",
    "g  = nx.read_gpickle(PICKLE_PATH).to_undirected()"
   ]
  },
  {
   "cell_type": "code",
   "execution_count": 16,
   "metadata": {},
   "outputs": [],
   "source": [
    "TRAIN_EDGE_NUM = train_edge['edge'].numpy().shape[0]\n",
    "\n",
    "train_edge_total = train_edge['edge'].numpy()\n",
    "np.random.shuffle(train_edge_total)\n",
    "train_edge_pos = train_edge_total[:TRAIN_EDGE_NUM]\n",
    "\n",
    "edge_index = torch_geometric.utils.convert.from_networkx(g).edge_index\n",
    "num_edges = len(train_edge_pos)\n",
    "train_edge_neg = negative_sampling(edge_index, num_nodes=len(g.nodes),\n",
    "                                    num_neg_samples=TRAIN_EDGE_NUM, method='dense').numpy().T\n"
   ]
  },
  {
   "cell_type": "code",
   "execution_count": 17,
   "metadata": {},
   "outputs": [
    {
     "data": {
      "text/plain": [
       "((1067911, 2), (1067911, 2))"
      ]
     },
     "execution_count": 17,
     "metadata": {},
     "output_type": "execute_result"
    }
   ],
   "source": [
    "train_edge_neg.shape, train_edge_pos.shape"
   ]
  },
  {
   "cell_type": "code",
   "execution_count": 18,
   "metadata": {},
   "outputs": [
    {
     "data": {
      "text/plain": [
       "((133489, 2), (95599, 2))"
      ]
     },
     "execution_count": 18,
     "metadata": {},
     "output_type": "execute_result"
    }
   ],
   "source": [
    "test_edge['edge'].numpy().shape, test_edge['edge_neg'].numpy().shape"
   ]
  },
  {
   "cell_type": "code",
   "execution_count": 19,
   "metadata": {},
   "outputs": [],
   "source": [
    "import pandas as pd\n",
    "betw = nx.get_node_attributes(g,'betweenness')\n",
    "eigc = nx.get_node_attributes(g,'eigenvect')\n",
    "degc = nx.get_node_attributes(g,'degree_centr')\n",
    "clust = nx.get_node_attributes(g,'clust')\n",
    "node_to_neigh = {_node: set(g.neighbors(_node)) for _node in g.nodes()}\n"
   ]
  },
  {
   "cell_type": "code",
   "execution_count": 20,
   "metadata": {},
   "outputs": [],
   "source": [
    "LABEL_COLUMN = 'edge_present'\n",
    "\n",
    "def prepare_data_for_regression(pos_edges_numpy, neg_edges_numpy):\n",
    "    _df_pos = pd.DataFrame(data=pos_edges_numpy, columns=['from','to'])\n",
    "    _df_pos['edge_present'] = 1\n",
    "    _df_neg = pd.DataFrame(data=neg_edges_numpy, columns=['from','to'])\n",
    "    _df_neg['edge_present'] = 0\n",
    "    _df = pd.concat([_df_pos,_df_neg])\n",
    "\n",
    "    _df['neigh_from'] = _df['from'].map(node_to_neigh)\n",
    "    _df['neigh_to'] = _df['to'].map(node_to_neigh)\n",
    "\n",
    "    _df['common_neigh'] = _df.apply(lambda _row: len(list(_row['neigh_from'].intersection(_row['neigh_to']))), axis=1)\n",
    "    _df['jaccard'] = _df.apply(lambda _row: _row['common_neigh']/len(list(_row['neigh_from'].union(_row['neigh_to']))), axis=1)\n",
    "    _df['deg_from'] = _df['from'].map(g.degree)\n",
    "    _df['deg_to'] = _df['to'].map(g.degree)\n",
    "    _df['deg_min'] = _df[['deg_from','deg_to']].min(axis=1)\n",
    "    _df['deg_max'] = _df[['deg_from','deg_to']].max(axis=1)\n",
    "\n",
    "    _df['betw_from'] = _df['from'].map(betw)\n",
    "    _df['betw_to'] = _df['to'].map(betw)\n",
    "    _df['betw_min'] = _df[['betw_from','betw_to']].min(axis=1)\n",
    "    _df['betw_max'] = _df[['betw_from','betw_to']].max(axis=1)\n",
    "\n",
    "    _df['eigc_from'] = _df['from'].map(eigc)\n",
    "    _df['eigc_to'] = _df['to'].map(eigc)\n",
    "    _df['eigc_min'] = _df[['eigc_from','eigc_to']].min(axis=1)\n",
    "    _df['eigc_max'] = _df[['eigc_from','eigc_to']].max(axis=1)\n",
    "\n",
    "    _df['clust_from'] = _df['from'].map(clust)\n",
    "    _df['clust_to'] = _df['to'].map(clust)\n",
    "    _df['clust_min'] = _df[['clust_from','clust_to']].min(axis=1)\n",
    "    _df['clust_max'] = _df[['clust_from','clust_to']].max(axis=1)\n",
    "\n",
    "    _df.drop(columns=list(filter(lambda col: '_from' in col or '_to' in col, _df.columns)), inplace=True)\n",
    "    _df.drop(columns=['from', 'to'], inplace=True)\n",
    "\n",
    "    return _df\n"
   ]
  },
  {
   "cell_type": "code",
   "execution_count": 21,
   "metadata": {},
   "outputs": [],
   "source": [
    "training_df = prepare_data_for_regression(train_edge_pos, train_edge_neg)\n",
    "testing_df = prepare_data_for_regression(test_edge['edge'].numpy(), test_edge['edge_neg'].numpy())"
   ]
  },
  {
   "cell_type": "code",
   "execution_count": 32,
   "metadata": {},
   "outputs": [
    {
     "name": "stdout",
     "output_type": "stream",
     "text": [
      "hits@10: 0.10650\n",
      "hits@20: 0.10707\n",
      "hits@30: 0.10959\n"
     ]
    }
   ],
   "source": [
    "get_nonlabel_columns = lambda _df: list(filter(lambda col: col != LABEL_COLUMN, _df.columns))\n",
    "\n",
    "feats_train = training_df[get_nonlabel_columns(training_df)].to_numpy()\n",
    "labels_train = training_df[LABEL_COLUMN].to_numpy()\n",
    "clf = make_pipeline(StandardScaler(), LogisticRegression()).fit(feats_train, labels_train)\n",
    "\n",
    "feats_test = testing_df[get_nonlabel_columns(testing_df)]\n",
    "labels_test = testing_df[LABEL_COLUMN]\n",
    "\n",
    "feats_pos = feats_test[labels_test == 1].to_numpy()\n",
    "feats_neg = feats_test[labels_test == 0].to_numpy()\n",
    "\n",
    "preds_pos_val = clf.predict_proba(feats_pos).max(axis=1)\n",
    "preds_neg_val = clf.predict_proba(feats_neg).max(axis=1)\n",
    "\n",
    "for K in [10, 20, 30]:\n",
    "    evaluator.K = K\n",
    "    valid_hits = evaluator.eval({\n",
    "                'y_pred_pos': preds_pos_val,\n",
    "                'y_pred_neg': preds_neg_val,\n",
    "            })[f'hits@{K}']\n",
    "    print(\"hits@{}: {:.5f}\".format(K, valid_hits))"
   ]
  },
  {
   "cell_type": "code",
   "execution_count": 31,
   "metadata": {},
   "outputs": [
    {
     "data": {
      "image/png": "[encoded data removed]",
      "text/plain": [
       "<Figure size 720x360 with 1 Axes>"
      ]
     },
     "metadata": {
      "needs_background": "light"
     },
     "output_type": "display_data"
    }
   ],
   "source": [
    "import seaborn as sns\n",
    "import matplotlib.pyplot as plt\n",
    "import matplotlib\n",
    "import importlib\n",
    "importlib.reload(plt)\n",
    "importlib.reload(sns)\n",
    "matplotlib.rcParams.update({'font.size': 12})\n",
    "\n",
    "color = sns.color_palette(\"muted\", as_cmap=True)\n",
    "sns.set_palette(color)\n",
    "fig = plt.figure(figsize=(10, 5))\n",
    "\n",
    "plt.bar(list(map(lambda name: name.replace('_', '\\n'),training_df[get_nonlabel_columns(training_df)].columns)), clf[1].coef_.flatten(), color=color[0])\n",
    "plt.title(\"Coefficients learnt by Logistic Regression\")\n",
    "plt.axhline(y=0, color=\".5\")\n",
    "plt.xlabel(\"Parameter\")\n",
    "plt.ylabel(\"Coefficient\")\n",
    "plt.savefig('logistic.pdf')"
   ]
  },
  {
   "cell_type": "code",
   "execution_count": 33,
   "metadata": {},
   "outputs": [
    {
     "name": "stdout",
     "output_type": "stream",
     "text": [
      "hits@10: 0.00016\n",
      "hits@20: 0.00016\n",
      "hits@30: 0.00025\n"
     ]
    }
   ],
   "source": [
    "# Remove our top notch hardcrafted features\n",
    "\n",
    "get_nonlabel_columns = lambda _df: list(filter(lambda col: col != LABEL_COLUMN and 'jaccard' not in col and 'common' not in col, _df.columns))\n",
    "\n",
    "feats_train = training_df[get_nonlabel_columns(training_df)].to_numpy()\n",
    "labels_train = training_df[LABEL_COLUMN].to_numpy()\n",
    "clf = make_pipeline(StandardScaler(), LogisticRegression()).fit(feats_train, labels_train)\n",
    "\n",
    "feats_test = testing_df[get_nonlabel_columns(testing_df)]\n",
    "labels_test = testing_df[LABEL_COLUMN]\n",
    "\n",
    "feats_pos = feats_test[labels_test == 1].to_numpy()\n",
    "feats_neg = feats_test[labels_test == 0].to_numpy()\n",
    "\n",
    "preds_pos_val = clf.predict_proba(feats_pos).max(axis=1)\n",
    "preds_neg_val = clf.predict_proba(feats_neg).max(axis=1)\n",
    "\n",
    "for K in [10, 20, 30]:\n",
    "    evaluator.K = K\n",
    "    valid_hits = evaluator.eval({\n",
    "                'y_pred_pos': preds_pos_val,\n",
    "                'y_pred_neg': preds_neg_val,\n",
    "            })[f'hits@{K}']\n",
    "    print(\"hits@{}: {:.5f}\".format(K, valid_hits))"
   ]
  }
 ],
 "metadata": {
  "interpreter": {
   "hash": "61f371659e15671c4bf19c781ff73734bc385c323133a3685f5b4f679a2745d0"
  },
  "kernelspec": {
   "display_name": "Python 3.8.11 ('ada')",
   "language": "python",
   "name": "python3"
  },
  "language_info": {
   "codemirror_mode": {
    "name": "ipython",
    "version": 3
   },
   "file_extension": ".py",
   "mimetype": "text/x-python",
   "name": "python",
   "nbconvert_exporter": "python",
   "pygments_lexer": "ipython3",
   "version": "3.8.11"
  },
  "orig_nbformat": 4
 },
 "nbformat": 4,
 "nbformat_minor": 2
}
