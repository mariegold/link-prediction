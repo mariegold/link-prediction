{
 "cells": [
  {
   "cell_type": "markdown",
   "metadata": {},
   "source": [
    "### Visualization prep"
   ]
  },
  {
   "cell_type": "code",
   "execution_count": 1,
   "metadata": {},
   "outputs": [],
   "source": [
    "import json\n",
    "import random\n",
    "import torch_geometric\n",
    "import networkx as nx\n",
    "import pandas as pd\n",
    "from ogb.linkproppred import PygLinkPropPredDataset\n",
    "\n",
    "# get the names of drugs\n",
    "nodeid_to_drug_id = pd.read_csv('dataset/ogbl_ddi/mapping/nodeidx2drugid.csv')\n",
    "names = pd.read_csv('dataset/drugbank.csv')\n",
    "conversion = nodeid_to_drug_id.merge(names, left_on='drug id', right_on='DrugBank ID')\\\n",
    "                              .set_index('node idx')['Common name'].to_dict()\n",
    "\n",
    "# get the graph\n",
    "dataset = PygLinkPropPredDataset(name = 'ogbl-ddi')\n",
    "graph = dataset[0]\n",
    "g = torch_geometric.utils.to_networkx(graph, to_undirected=True)\n",
    "\n",
    "# subsample a LOT\n",
    "h = g.subgraph(random.sample(g.nodes, 250))\n",
    "\n",
    "nodes = [{\"id\": n, \"title\": conversion[n]} for n in h.nodes]\n",
    "links = [{'source': u[0], 'target': u[1]} for u in h.edges()]\n",
    "\n",
    "with open('misc/graph.json', 'w') as f:\n",
    "    json.dump({'nodes': nodes, 'links': links}, f, indent = 4, )"
   ]
  },
  {
   "cell_type": "code",
   "execution_count": null,
   "metadata": {},
   "outputs": [],
   "source": []
  }
 ],
 "metadata": {
  "interpreter": {
   "hash": "672a148edff965e1f25bd0b0da530a9c3c1c3d30d9b12282e6549c14cf941e6c"
  },
  "kernelspec": {
   "display_name": "Python 3.8.11 ('networks')",
   "language": "python",
   "name": "python3"
  },
  "language_info": {
   "codemirror_mode": {
    "name": "ipython",
    "version": 3
   },
   "file_extension": ".py",
   "mimetype": "text/x-python",
   "name": "python",
   "nbconvert_exporter": "python",
   "pygments_lexer": "ipython3",
   "version": "3.8.11"
  },
  "orig_nbformat": 4
 },
 "nbformat": 4,
 "nbformat_minor": 2
}
